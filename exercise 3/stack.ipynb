{
  "nbformat": 4,
  "nbformat_minor": 0,
  "metadata": {
    "colab": {
      "provenance": [],
      "authorship_tag": "ABX9TyM6nEZv9lD+S+RIRkZYO9kj",
      "include_colab_link": true
    },
    "kernelspec": {
      "name": "python3",
      "display_name": "Python 3"
    },
    "language_info": {
      "name": "python"
    }
  },
  "cells": [
    {
      "cell_type": "markdown",
      "metadata": {
        "id": "view-in-github",
        "colab_type": "text"
      },
      "source": [
        "<a href=\"https://colab.research.google.com/github/yves-romeo/exercise-3/blob/main/stack.ipynb\" target=\"_parent\"><img src=\"https://colab.research.google.com/assets/colab-badge.svg\" alt=\"Open In Colab\"/></a>"
      ]
    },
    {
      "cell_type": "code",
      "execution_count": null,
      "metadata": {
        "id": "OcCDJVQJq4cv"
      },
      "outputs": [],
      "source": [
        "# Code simulation of the stack operations\n",
        "stack = []\n",
        "stack.append(\"Lecture A\")\n",
        "stack.append(\"Lecture B\")\n",
        "stack.append(\"Lecture C\")\n",
        "\n",
        "# Undo two (pop two)\n",
        "stack.pop()\n",
        "stack.pop()\n",
        "\n",
        "# Check the top element\n",
        "top_element = stack[-1] if stack else None\n",
        "\n",
        "print(f\"Stack after operations: {stack}\")\n",
        "print(f\"The top of the stack is: {top_element}\")"
      ]
    }
  ]
}