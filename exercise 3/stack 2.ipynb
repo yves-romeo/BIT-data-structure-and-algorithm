{
  "nbformat": 4,
  "nbformat_minor": 0,
  "metadata": {
    "colab": {
      "provenance": [],
      "authorship_tag": "ABX9TyMj0rQ7iR5ZWsupo6EO1RxK",
      "include_colab_link": true
    },
    "kernelspec": {
      "name": "python3",
      "display_name": "Python 3"
    },
    "language_info": {
      "name": "python"
    }
  },
  "cells": [
    {
      "cell_type": "markdown",
      "metadata": {
        "id": "view-in-github",
        "colab_type": "text"
      },
      "source": [
        "<a href=\"https://colab.research.google.com/github/yves-romeo/exercise-3/blob/main/stack%202.ipynb\" target=\"_parent\"><img src=\"https://colab.research.google.com/assets/colab-badge.svg\" alt=\"Open In Colab\"/></a>"
      ]
    },
    {
      "cell_type": "code",
      "execution_count": null,
      "metadata": {
        "id": "OcCDJVQJq4cv"
      },
      "outputs": [],
      "source": [
        "# Code simulation of the stack operations\n",
        "stack = []\n",
        "stack.append(\"Form1\")\n",
        "stack.append(\"Form2\")\n",
        "stack.append(\"Form3\")\n",
        "\n",
        "# Pop one\n",
        "stack.pop()\n",
        "\n",
        "# The remaining stack\n",
        "remaining_stack = stack\n",
        "\n",
        "print(f\"Stack after operations: {remaining_stack}\")"
      ]
    }
  ]
}